{
 "cells": [
  {
   "cell_type": "code",
   "execution_count": 17,
   "id": "2d91b434",
   "metadata": {},
   "outputs": [],
   "source": [
    "def get_sequence_mkm(n, a0, M, c1):\n",
    "    b = max(c1, M - c1)\n",
    "    # Инициализация\n",
    "    sequence_mkm = [a0]\n",
    "    for i in range(1, n + 1):\n",
    "        next_value = (sequence_mkm[-1] * b) % M\n",
    "        sequence_mkm.append(next_value)\n",
    "    for i in range(0, n + 1):\n",
    "        sequence_mkm[i]/=M\n",
    "    sequence_mkm = sequence_mkm[1:]\n",
    "    return sequence_mkm"
   ]
  },
  {
   "cell_type": "code",
   "execution_count": 18,
   "id": "3a67f715",
   "metadata": {},
   "outputs": [],
   "source": [
    "def generation_bernoulli(array, p):\n",
    "    bernoulli_values = [1 if array[i] < p else 0 for i in range(0, len(array))]\n",
    "    return bernoulli_values"
   ]
  },
  {
   "cell_type": "code",
   "execution_count": 19,
   "id": "3b17f717",
   "metadata": {},
   "outputs": [],
   "source": [
    "def generate_binomial_value(m, p):\n",
    "    random_numbers = np.random.rand(m)\n",
    "    binomial_values = (random_numbers < p).astype(int)\n",
    "    binomial_result = np.sum(binomial_values)\n",
    "    return binomial_result"
   ]
  },
  {
   "cell_type": "code",
   "execution_count": 20,
   "id": "46dd5886",
   "metadata": {},
   "outputs": [],
   "source": [
    "def generate_binomial_array(n, m, p):\n",
    "    answer = []\n",
    "    for i in range(0, n):\n",
    "        answer.append(generate_binomial_value(m, p))\n",
    "    return answer"
   ]
  },
  {
   "cell_type": "markdown",
   "id": "f58c87e5",
   "metadata": {},
   "source": [
    "# Основное задание(4 балла)\n",
    "\n",
    "Осуществить моделирование n = 1000 реализаций случайных величин из заданных дискретных\n",
    "распределений для этого можно использовать любой генератор БСВ (как реализованный в 1-ой\n",
    "лабораторной работе, так и встроенный в язык программирования). Вывести несмещенные оценки\n",
    "математического ожидания и дисперсии, сравнить их с истинными значениями. Генерацию можно\n",
    "осуществить либо универсальным методом для дискретного закона распределения, либо на основе\n",
    "содержательного смысла заданного распределения, либо другим способом, взятым из литературы.\n",
    "Дать обоснование, почему используемый вами метод генерации работает."
   ]
  },
  {
   "cell_type": "code",
   "execution_count": 21,
   "id": "de0b2ca3",
   "metadata": {},
   "outputs": [
    {
     "name": "stdout",
     "output_type": "stream",
     "text": [
      "Распределение Бернулли:\n",
      "Истинное мат. ожидание: 0.2013, Оценка мат. ожидания: 0.199\n",
      "Истинная дисперсия: 0.16077831, Оценка дисперсии: 0.159399\n",
      "\n",
      "Биномиальное распределение:\n",
      "Истинное мат. ожидание: 4.0, Оценка мат. ожидания: 3.958\n",
      "Истинная дисперсия: 2.0, Оценка дисперсии: 2.108236\n"
     ]
    }
   ],
   "source": [
    "import numpy as np\n",
    "import random\n",
    "\n",
    "# Генерация БСВ\n",
    "n = 1000  # Количество реализаций\n",
    "a0 = a01 = 109497735  # Значение первого элемннта последовательности\n",
    "M = 2 ** 31  # Модуль (M)\n",
    "c1 = 282157373  # Коэффициент умножения (c1)\n",
    "b = max(c1, M - c1)\n",
    "\n",
    "\n",
    "# Переход к распределению Бернулли\n",
    "p_bernoulli = 0.2013\n",
    "sequence = get_sequence_mkm(n, a0, M, c1)\n",
    "bernoulli_values = generation_bernoulli(sequence, p_bernoulli)\n",
    "\n",
    "# Вычисление истинных значений для распределения Бернулли\n",
    "true_var_bernoulli = p_bernoulli * (1 - p_bernoulli)\n",
    "true_mean_bernoulli = p_bernoulli\n",
    "\n",
    "\n",
    "# Высчитываем мат. ожидание и дисперсию для распределения Бернулли\n",
    "estimate_var_bernoulli = np.var(bernoulli_values)\n",
    "estimate_mean_bernoulli = np.mean(bernoulli_values)\n",
    "\n",
    "# Переход к биномиальному распределению\n",
    "m_binomial = 8\n",
    "p_binomial = 0.5\n",
    "n = 1000\n",
    "binomial_values = generate_binomial_array(n, m_binomial, p_binomial)\n",
    "\n",
    "# Вычисление истинных значений для биномиального распределения\n",
    "true_mean_binomial = m_binomial * p_binomial\n",
    "true_var_binomial = p_binomial * (1 - p_binomial) * m_binomial\n",
    "\n",
    "# Высчитываем мат. ожидание и дисперсию для биномиального распределения\n",
    "estimate_var_binomial = np.var(binomial_values)\n",
    "estimate_mean_binomial = np.mean(binomial_values)\n",
    "\n",
    "print(\"Распределение Бернулли:\")\n",
    "print(f\"Истинное мат. ожидание: {true_mean_bernoulli}, Оценка мат. ожидания: {estimate_mean_bernoulli}\")\n",
    "print(f\"Истинная дисперсия: {true_var_bernoulli}, Оценка дисперсии: {estimate_var_bernoulli}\\n\")\n",
    "\n",
    "print(\"Биномиальное распределение:\")\n",
    "print(f\"Истинное мат. ожидание: {true_mean_binomial}, Оценка мат. ожидания: {estimate_mean_binomial}\")\n",
    "print(f\"Истинная дисперсия: {true_var_binomial}, Оценка дисперсии: {estimate_var_binomial}\")"
   ]
  },
  {
   "cell_type": "markdown",
   "id": "2a518d66",
   "metadata": {},
   "source": [
    "# Задание №1(Распределение Бернулли и биномиальное распределение)\n",
    "\n",
    "Провести генерацию реализации требуемой случайной величины способом, отличным от того, который был использован в основном задании. (Засчитывается только один раз только для одного распределения)\n",
    "\n"
   ]
  },
  {
   "cell_type": "code",
   "execution_count": 22,
   "id": "722ccbc5",
   "metadata": {},
   "outputs": [],
   "source": [
    "from scipy.stats import binom\n",
    "def binom_random(n, m, p):\n",
    "    binom_values = binom.rvs(m, p, size=n)\n",
    "    return binom_values\n",
    "   \n",
    "m_binomial = 8\n",
    "p_binomial = 0.5\n",
    "n = 1000\n",
    "    \n",
    "def bernoulli_random(n, p):\n",
    "    bernoulli_values = [1 if random.random() < p else 0 for _ in range(0,  n)]\n",
    "    return bernoulli_values\n",
    "\n",
    "p_bernoulli = 0.2013\n",
    "n = 1000"
   ]
  },
  {
   "cell_type": "markdown",
   "id": "64f38be1",
   "metadata": {},
   "source": [
    "# Задание №2(1 балл)\n",
    "\n",
    "Вычислить несмещенные оценки коэффициентов эксцесса и асимметрии и сравнить с\n",
    "истинными значениями. Что характеризуют данные параметры? Дайте содержательную\n",
    "интерпретацию полученных результатов."
   ]
  },
  {
   "cell_type": "code",
   "execution_count": 27,
   "id": "d4d823f8",
   "metadata": {},
   "outputs": [
    {
     "name": "stdout",
     "output_type": "stream",
     "text": [
      "Биномиальное распределение:\n",
      "Истинная асимметрия: 0.0, Оценка асимметрии: -0.05432284816417247\n",
      "Истинный эксцесс: -0.25, Оценка эксцесса: -0.4009824325030249\n",
      "Распределение Бернулли:\n",
      "Истинная асимметрия: 1.4898806804225706, Оценка асимметрии: 1.4896480246862145\n",
      "Истинный эксцесс: 0.21974444189642323, Оценка эксцесса: 0.2190512374515441\n"
     ]
    }
   ],
   "source": [
    "import numpy as np\n",
    "from scipy.stats import skew, kurtosis\n",
    "\n",
    "def bernoulli_random(n, p):\n",
    "    bernoulli_values = [1 if random.random() < p else 0 for _ in range(0,  n)]\n",
    "    return bernoulli_values\n",
    "\n",
    "n = 1000000\n",
    "p_bernoulli = 0.2013\n",
    "\n",
    "m_binomial = 8\n",
    "p_binomial = 0.5\n",
    "\n",
    "bernoulli_values = bernoulli_random(n, p_bernoulli)\n",
    "\n",
    "# Вычисление несмещенных оценок асимметрии и эксцесса для распределения Бернулли\n",
    "skewness_estimate_bernoulli = skew(bernoulli_values)\n",
    "kurtosis_estimate_bernoulli = kurtosis(bernoulli_values, fisher = True)\n",
    "\n",
    "# Вычисление несмещенных оценок асимметрии и эксцесса для биномиального распределения\n",
    "skewness_estimate_binomial = skew(binomial_values)\n",
    "kurtosis_estimate_binomial = kurtosis(binomial_values, fisher=True)\n",
    "\n",
    "# Истинные значения асимметрии и эксцесса для распределения Бернулли\n",
    "true_kurtosis_bernoulli = (6 * p_bernoulli ** 2 - 6 * p_bernoulli + 1) / ( p_bernoulli * (1 - p_bernoulli))\n",
    "true_skewness_bernoulli = (1 - 2 * p_bernoulli) / ( (p_bernoulli * (1 - p_bernoulli)) ** 0.5) \n",
    "\n",
    "# Истинные значения асимметрии и эксцесса для биномиального распределения\n",
    "true_skewness_binomial = (1 - p_binomial - p_binomial) / ((m_binomial * p_binomial * (1 - p_binomial))**0.5 )\n",
    "true_kurtosis_binomial = (1 - 6 * p_binomial * (1 - p_binomial))/(m_binomial * p_binomial * (1 - p_binomial))\n",
    "\n",
    "# Вывод результатов биномиального распределения\n",
    "print(\"Биномиальное распределение:\")\n",
    "print(f\"Истинная асимметрия: {true_skewness_binomial}, Оценка асимметрии: {skewness_estimate_binomial}\")\n",
    "print(f\"Истинный эксцесс: {true_kurtosis_binomial}, Оценка эксцесса: {kurtosis_estimate_binomial}\")\n",
    "\n",
    "# Вывод результатов распределения Бернулли\n",
    "print(\"Распределение Бернулли:\")\n",
    "print(f\"Истинная асимметрия: {true_skewness_bernoulli}, Оценка асимметрии: {skewness_estimate_bernoulli}\")\n",
    "print(f\"Истинный эксцесс: {true_kurtosis_bernoulli}, Оценка эксцесса: {kurtosis_estimate_bernoulli}\")"
   ]
  },
  {
   "cell_type": "markdown",
   "id": "7aba4095",
   "metadata": {},
   "source": [
    "# Задание №5(3 балла)\n",
    "\n",
    "Смоделировать реализацию однородной цепи Маркова"
   ]
  },
  {
   "cell_type": "code",
   "execution_count": 24,
   "id": "b05ccd73",
   "metadata": {},
   "outputs": [
    {
     "name": "stdout",
     "output_type": "stream",
     "text": [
      "Доля нулей: 0.336\n",
      "Доля единиц: 0.3278\n",
      "Доля двоек: 0.3362\n"
     ]
    }
   ],
   "source": [
    "import numpy as np\n",
    "\n",
    "def generate_markov_chain(pi, P, T):\n",
    "    state_sequence = []\n",
    "    current_state = np.random.choice(len(pi), p=pi)\n",
    "    state_sequence.append(current_state)\n",
    "    \n",
    "    for _ in range(T - 1):\n",
    "        next_state = np.random.choice(len(pi), p=P[current_state])\n",
    "        state_sequence.append(next_state)\n",
    "        current_state = next_state\n",
    "    \n",
    "    return state_sequence\n",
    "\n",
    "pi = [0.5, 0, 0.5]\n",
    "P = [[0.2, 0.2, 0.6], [0.2, 0.5, 0.3], [0.6, 0.3, 0.1]]\n",
    "T = 10000\n",
    "\n",
    "state_sequence = generate_markov_chain(pi, P, T)\n",
    "\n",
    "# Вычисляем долю нулей, единиц и двоек\n",
    "zero_fraction = state_sequence.count(0) / T\n",
    "one_fraction = state_sequence.count(1) / T\n",
    "two_fraction = state_sequence.count(2) / T\n",
    "\n",
    "print(f\"Доля нулей: {zero_fraction}\")\n",
    "print(f\"Доля единиц: {one_fraction}\")\n",
    "print(f\"Доля двоек: {two_fraction}\")"
   ]
  },
  {
   "cell_type": "code",
   "execution_count": null,
   "id": "6c660c09",
   "metadata": {},
   "outputs": [],
   "source": []
  }
 ],
 "metadata": {
  "kernelspec": {
   "display_name": "Python 3 (ipykernel)",
   "language": "python",
   "name": "python3"
  },
  "language_info": {
   "codemirror_mode": {
    "name": "ipython",
    "version": 3
   },
   "file_extension": ".py",
   "mimetype": "text/x-python",
   "name": "python",
   "nbconvert_exporter": "python",
   "pygments_lexer": "ipython3",
   "version": "3.11.5"
  }
 },
 "nbformat": 4,
 "nbformat_minor": 5
}
