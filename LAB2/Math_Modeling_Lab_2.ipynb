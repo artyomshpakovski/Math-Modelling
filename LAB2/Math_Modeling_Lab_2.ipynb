{
 "cells": [
  {
   "cell_type": "markdown",
   "id": "a2e30934",
   "metadata": {},
   "source": [
    "**Основные задания. Пункт а.**"
   ]
  },
  {
   "cell_type": "code",
   "execution_count": 57,
   "id": "f3d00d0d",
   "metadata": {
    "scrolled": true
   },
   "outputs": [
    {
     "name": "stdout",
     "output_type": "stream",
     "text": [
      "1-й элемент: 0.271785716060549\n",
      "15-й элемент: 0.668839952442795\n",
      "100-й элемент: 0.8122147577814758\n",
      "1000-й элемент: 0.1725084069184959\n"
     ]
    }
   ],
   "source": [
    "# Параметры МКМ\n",
    "n = 1000  # Количество реализаций\n",
    "a0 = a01 = 109497735  # Значение первого элемннта последовательности\n",
    "M = 2 ** 31  # Модуль (M)\n",
    "c1 = 282157373  # Коэффициент умножения (c1)\n",
    "b = max(c1, M - c1)\n",
    "\n",
    "# Инициализация\n",
    "sequence_mkm = [a0]\n",
    "for i in range(1, n + 1):\n",
    "    next_value = (sequence_mkm[-1] * b) % M\n",
    "    sequence_mkm.append(next_value)\n",
    "\n",
    "for i in range(0, n + 1):\n",
    "    sequence_mkm[i]/=M\n",
    "\n",
    "sequence_mkm = sequence_mkm[1:]\n",
    "# Вывод 1-го, 15-го, 100-го и 1000-го элементов\n",
    "\n",
    "print(f\"1-й элемент: {sequence_mkm[0]}\")\n",
    "print(f\"15-й элемент: {sequence_mkm[14]}\")\n",
    "print(f\"100-й элемент: {sequence_mkm[99]}\")\n",
    "print(f\"1000-й элемент: {sequence_mkm[999]}\")"
   ]
  },
  {
   "cell_type": "markdown",
   "id": "1721f160",
   "metadata": {},
   "source": [
    "**Основные задания. Пункт б.**\n"
   ]
  },
  {
   "cell_type": "code",
   "execution_count": 58,
   "id": "f336dec3",
   "metadata": {},
   "outputs": [
    {
     "name": "stdout",
     "output_type": "stream",
     "text": [
      "1-й элемент: 0.026374224107712507\n",
      "15-й элемент: 0.9649062636308372\n",
      "100-й элемент: 0.7959868493489921\n",
      "1000-й элемент: 0.9327450948767364\n"
     ]
    }
   ],
   "source": [
    "# Параметры МКМ для D1\n",
    "a01 = 109497735\n",
    "M = 2 ** 31\n",
    "c1 = 282157373\n",
    "b1 = max(c1, M - c1)\n",
    "\n",
    "\n",
    "# Параметры МКМ для D2\n",
    "a02 = 104597725\n",
    "c2 = 269584201\n",
    "b2 = max(c2, M - c2)\n",
    "\n",
    "# Параметры Макларена-Марсальи\n",
    "n = 1000\n",
    "K = 96\n",
    "\n",
    "\n",
    "# Инициализация\n",
    "sequence_mkm_1 = [a01]\n",
    "for i in range(1, n + K + 1):\n",
    "    next_value = (sequence_mkm_1[-1] * b1) % M\n",
    "    sequence_mkm_1.append(next_value)\n",
    "\n",
    "for i in range(0, n + K + 1):\n",
    "    sequence_mkm_1[i]/=M\n",
    "\n",
    "sequence_mkm_1 = sequence_mkm_1[1:]\n",
    "\n",
    "\n",
    "# Инициализация второй последовательности\n",
    "sequence_mkm_2 = [a02]\n",
    "for i in range(1, n + 1):\n",
    "    next_value = (sequence_mkm_2[-1] * b2) % M\n",
    "    sequence_mkm_2.append(next_value)\n",
    "\n",
    "for i in range(0, n + 1):\n",
    "    sequence_mkm_2[i]/=M\n",
    "\n",
    "    \n",
    "sequence_mkm_2 = sequence_mkm_2[1:]\n",
    "\n",
    "\n",
    "MMM = []\n",
    "V = sequence_mkm_1[:K]\n",
    "c = sequence_mkm_2[:n]\n",
    "\n",
    "for i in range(0, n):\n",
    "    s = int(c[i] * K)\n",
    "    if s < 1:\n",
    "        s = 1\n",
    "    a = V[s]\n",
    "    MMM.append(V[s])\n",
    "    V[s] = sequence_mkm_1[i + K]\n",
    "    \n",
    "    \n",
    "    \n",
    "combined_sequence = MMM\n",
    "\n",
    "# Вывод 1-го, 15-го, 100-го и 1000-го элементов\n",
    "\n",
    "print(f\"1-й элемент: {combined_sequence[0]}\")\n",
    "print(f\"15-й элемент: {combined_sequence[14]}\")\n",
    "print(f\"100-й элемент: {combined_sequence[99]}\")\n",
    "print(f\"1000-й элемент: {combined_sequence[999]}\")"
   ]
  },
  {
   "cell_type": "markdown",
   "id": "6861ebb3",
   "metadata": {},
   "source": [
    "**Дополнительные задания. Пункт 1. Для мультипликативного конгруэтного метода(1 балл).**"
   ]
  },
  {
   "cell_type": "code",
   "execution_count": 59,
   "id": "c7d9a66d",
   "metadata": {},
   "outputs": [
    {
     "name": "stdout",
     "output_type": "stream",
     "text": [
      "Среднее: 0.5036015591397881\n",
      "Дисперсия: 0.08406176855897281\n",
      "Стандартное отклонение: 0.2899340762293608\n",
      "Медиана: 0.5078112022019923\n",
      "Первая квартиль: 0.2495411743875593\n",
      "Третья квартиль: 0.7542166658677161\n",
      "Минимальное значение: 7.412536069750786e-05\n",
      "Максимальное значение: 0.9998074756003916\n"
     ]
    }
   ],
   "source": [
    "import numpy as np\n",
    "\n",
    "# Параметры МКМ\n",
    "n = 1000  # Количество реализаций\n",
    "a0 = a01 = 109497735  # Значение первого элемннта последовательности\n",
    "M = 2 ** 31  # Модуль (M)\n",
    "c1 = 282157373  # Коэффициент умножения (c1)\n",
    "b = max(c1, M - c1)\n",
    "\n",
    "# Инициализация\n",
    "sequence_mkm = [a0]\n",
    "for i in range(1, n + 1):\n",
    "    next_value = (sequence_mkm[-1] * b) % M\n",
    "    sequence_mkm.append(next_value)\n",
    "\n",
    "for i in range(0, n + 1):\n",
    "    sequence_mkm[i]/=M\n",
    "\n",
    "    \n",
    "sequence_mkm = sequence_mkm[1:]\n",
    "\n",
    "# Вычисление характеристик выборки\n",
    "mean = np.mean(sequence_mkm)\n",
    "variance = np.var(sequence_mkm)\n",
    "std_deviation = np.std(sequence_mkm)\n",
    "median = np.median(sequence_mkm)\n",
    "q1 = np.percentile(sequence_mkm, 25)\n",
    "q3 = np.percentile(sequence_mkm, 75)\n",
    "min_value = np.min(sequence_mkm)\n",
    "max_value = np.max(sequence_mkm)\n",
    "\n",
    "# Вывод результатов\n",
    "print(f\"Среднее: {mean}\")\n",
    "print(f\"Дисперсия: {variance}\")\n",
    "print(f\"Стандартное отклонение: {std_deviation}\")\n",
    "print(f\"Медиана: {median}\")\n",
    "print(f\"Первая квартиль: {q1}\")\n",
    "print(f\"Третья квартиль: {q3}\")\n",
    "print(f\"Минимальное значение: {min_value}\")\n",
    "print(f\"Максимальное значение: {max_value}\")\n"
   ]
  },
  {
   "cell_type": "markdown",
   "id": "0b6070d9",
   "metadata": {},
   "source": [
    "**Дополнительные задания. Пункт 1. Для метода Макларена-Марсальи(1 балл).**"
   ]
  },
  {
   "cell_type": "code",
   "execution_count": 60,
   "id": "83e555ea",
   "metadata": {},
   "outputs": [
    {
     "name": "stdout",
     "output_type": "stream",
     "text": [
      "Среднее: 0.49830716496612876\n",
      "Дисперсия: 0.08415243020767374\n",
      "Стандартное отклонение: 0.29009038282520455\n",
      "Медиана: 0.49793513817712665\n",
      "Первая квартиль: 0.2432984453625977\n",
      "Третья квартиль: 0.7475507005583495\n",
      "Минимальное значение: 7.412536069750786e-05\n",
      "Максимальное значение: 0.9998074756003916\n"
     ]
    }
   ],
   "source": [
    "import numpy as np\n",
    "\n",
    "# Параметры МКМ для D1\n",
    "a01 = 109497735\n",
    "M = 2 ** 31\n",
    "c1 = 282157373\n",
    "b1 = max(c1, M - c1)\n",
    "\n",
    "\n",
    "# Параметры МКМ для D2\n",
    "a02 = 104597725\n",
    "c2 = 269584201\n",
    "b2 = max(c2, M - c2)\n",
    "\n",
    "# Параметры Макларена-Марсальи\n",
    "n = 1000\n",
    "K = 96\n",
    "\n",
    "\n",
    "# Инициализация\n",
    "sequence_mkm_1 = [a01]\n",
    "for i in range(1, n + K + 1):\n",
    "    next_value = (sequence_mkm_1[-1] * b1) % M\n",
    "    sequence_mkm_1.append(next_value)\n",
    "\n",
    "for i in range(0, n + K + 1):\n",
    "    sequence_mkm_1[i]/=M\n",
    "\n",
    "sequence_mkm_1 = sequence_mkm_1[1:]\n",
    "\n",
    "\n",
    "# Инициализация второй последовательности\n",
    "sequence_mkm_2 = [a02]\n",
    "for i in range(1, n + 1):\n",
    "    next_value = (sequence_mkm_2[-1] * b2) % M\n",
    "    sequence_mkm_2.append(next_value)\n",
    "\n",
    "for i in range(0, n + 1):\n",
    "    sequence_mkm_2[i]/=M\n",
    "\n",
    "    \n",
    "sequence_mkm_2 = sequence_mkm_2[1:]\n",
    "\n",
    "\n",
    "MMM = []\n",
    "V = sequence_mkm_1[:K]\n",
    "c = sequence_mkm_2[:n]\n",
    "\n",
    "for i in range(0, n):\n",
    "    s = int(c[i] * K)\n",
    "    if s < 1:\n",
    "        s = 1\n",
    "    a = V[s]\n",
    "    MMM.append(V[s])\n",
    "    V[s] = sequence_mkm_1[i + K]\n",
    "    \n",
    "    \n",
    "    \n",
    "combined_sequence = MMM\n",
    "\n",
    "# Вычисление характеристик выборки\n",
    "mean = np.mean(combined_sequence)\n",
    "variance = np.var(combined_sequence)\n",
    "std_deviation = np.std(combined_sequence)\n",
    "median = np.median(combined_sequence)\n",
    "q1 = np.percentile(combined_sequence, 25)\n",
    "q3 = np.percentile(combined_sequence, 75)\n",
    "min_value = np.min(combined_sequence)\n",
    "max_value = np.max(combined_sequence)\n",
    "\n",
    "# Вывод результатов\n",
    "print(f\"Среднее: {mean}\")\n",
    "print(f\"Дисперсия: {variance}\")\n",
    "print(f\"Стандартное отклонение: {std_deviation}\")\n",
    "print(f\"Медиана: {median}\")\n",
    "print(f\"Первая квартиль: {q1}\")\n",
    "print(f\"Третья квартиль: {q3}\")\n",
    "print(f\"Минимальное значение: {min_value}\")\n",
    "print(f\"Максимальное значение: {max_value}\")"
   ]
  },
  {
   "cell_type": "markdown",
   "id": "5a86b38d",
   "metadata": {},
   "source": [
    "**Дополнительные задания. Пункт 4(2 балла).** \n",
    "\n",
    "Близкое к нулю значение (r<sub>τ</sub> близка к 0): Если коэффициент корреляции близок к нулю, это может указывать на отсутствие значимой зависимости между текущими и будущими значениями. В этом случае будущие значения, вероятно, не могут быть предсказаны на основе текущих значений."
   ]
  },
  {
   "cell_type": "code",
   "execution_count": 53,
   "id": "8b958c53",
   "metadata": {},
   "outputs": [
    {
     "name": "stdout",
     "output_type": "stream",
     "text": [
      "r_1 = 0.020692230550960918\n",
      "r_2 = 0.021625927271885566\n",
      "r_3 = -0.001088093532679518\n",
      "r_4 = 0.01633867608890477\n",
      "r_5 = 0.03679595390352526\n",
      "r_6 = 0.008712050565795678\n",
      "r_7 = -0.014020724848481924\n",
      "r_8 = 0.05097631976324143\n",
      "r_9 = 0.04056533701798803\n",
      "r_10 = 0.08441108784133405\n",
      "r_11 = -0.010413235872286439\n",
      "r_12 = -0.05113993076079831\n",
      "r_13 = -0.0353426887753604\n",
      "r_14 = -0.025654651896553995\n",
      "r_15 = -0.03905251960811866\n",
      "r_16 = -0.006465447800388146\n",
      "r_17 = -0.007247555966972268\n",
      "r_18 = -0.00744273906653615\n",
      "r_19 = -0.04929148720317747\n",
      "r_20 = 0.003962599287424265\n",
      "r_21 = -0.04543331776593165\n",
      "r_22 = -0.03384593200054028\n",
      "r_23 = -0.027138524048326743\n",
      "r_24 = -0.007919625466533986\n",
      "r_25 = 0.025965725360398848\n",
      "r_26 = -0.04192301645934144\n",
      "r_27 = -0.048452110492379054\n",
      "r_28 = -0.021082662735824757\n",
      "r_29 = -0.010086820291312535\n",
      "r_30 = 0.017716930380940514\n"
     ]
    },
    {
     "data": {
      "image/png": "[encoded data removed]",
      "text/plain": [
       "<Figure size 640x480 with 1 Axes>"
      ]
     },
     "metadata": {},
     "output_type": "display_data"
    }
   ],
   "source": [
    "import numpy as np\n",
    "import matplotlib.pyplot as plt\n",
    "\n",
    "# Параметры МКМ\n",
    "n = 1000  # Количество реализаций\n",
    "a0 = a01 = 109497735  # Значение первого элемннта последовательности\n",
    "M = 2 ** 31  # Модуль (M)\n",
    "c1 = 282157373  # Коэффициент умножения (c1)\n",
    "b = max(c1, M - c1)\n",
    "\n",
    "# Инициализация\n",
    "sequence_mkm = [a0]\n",
    "for i in range(1, n + 1):\n",
    "    next_value = (sequence_mkm[-1] * b) % M\n",
    "    sequence_mkm.append(next_value)\n",
    "\n",
    "for i in range(0, n + 1):\n",
    "    sequence_mkm[i]/=M\n",
    "\n",
    "    \n",
    "sequence_mkm = sequence_mkm[1:]\n",
    "\n",
    "# Максимальное значение задержки\n",
    "max_tau = 30\n",
    "\n",
    "# Вычисление коэффициентов корреляции для разных задержек\n",
    "correlations = []\n",
    "for tau in range(1, max_tau + 1):\n",
    "    r_tau = np.corrcoef(combined_sequence[:-tau], combined_sequence[tau:])[0, 1]\n",
    "    correlations.append(r_tau)\n",
    "\n",
    "# Вывод результатов\n",
    "for tau, r_tau in enumerate(correlations, start=1):\n",
    "    print(f\"r_{tau} = {r_tau}\")\n",
    "\n",
    "# Визуализация результатов (опционально)\n",
    "plt.plot(range(1, max_tau + 1), correlations)\n",
    "plt.xlabel(\"Задержка (τ)\")\n",
    "plt.ylabel(\"Коэффициент корреляции (r_τ)\")\n",
    "plt.title(\"График корреляции\")\n",
    "plt.grid(True)\n",
    "plt.show()"
   ]
  },
  {
   "cell_type": "markdown",
   "id": "59c136d8",
   "metadata": {},
   "source": [
    "**Дополнительные задания. Пункт 5(1 балл).**\n",
    "\n",
    "Вывод: генерация значений прошла достаточно равномерно."
   ]
  },
  {
   "cell_type": "code",
   "execution_count": 14,
   "id": "82448bbf",
   "metadata": {},
   "outputs": [
    {
     "data": {
      "image/png": "[encoded data removed]",
      "text/plain": [
       "<Figure size 640x480 with 1 Axes>"
      ]
     },
     "metadata": {},
     "output_type": "display_data"
    }
   ],
   "source": [
    "import matplotlib.pyplot as plt\n",
    "\n",
    "# Параметры МКМ\n",
    "n = 1000  # Количество реализаций\n",
    "a0 = a01 = 109497735  # Значение начального семени (a0 и a01)\n",
    "M = 2 ** 31  # Модуль (M)\n",
    "c1 = 282157373  # Коэффициент умножения (c1)\n",
    "b = max(c1, M - c1)\n",
    "\n",
    "# Инициализация\n",
    "sequence_mkm = [a0]\n",
    "for i in range(1, n):\n",
    "    next_value = (sequence_mkm[-1] * b) % M\n",
    "    sequence_mkm.append(next_value)\n",
    "\n",
    "\n",
    "for i in range(0, n): \n",
    "    sequence_mkm[i]/=M\n",
    "\n",
    "# Построение гистограммы\n",
    "plt.hist(sequence_mkm, bins=10, color='blue', alpha=0.7)\n",
    "plt.xlabel(\"Значения\")\n",
    "plt.ylabel(\"Частота\")\n",
    "plt.title(\"Гистограмма выходных данных\")\n",
    "plt.grid(True)\n",
    "\n",
    "# Вывод гистограммы\n",
    "plt.show()"
   ]
  },
  {
   "cell_type": "markdown",
   "id": "e3c8497b",
   "metadata": {},
   "source": [
    "**Дополнительные задания. Пункт 6.**"
   ]
  },
  {
   "cell_type": "code",
   "execution_count": 61,
   "id": "d5170af5",
   "metadata": {},
   "outputs": [
    {
     "name": "stdout",
     "output_type": "stream",
     "text": [
      "Статистика Колмогорова-Смирнова: 0.024589223455637743\n",
      "p-значение: 0.5723900192805926\n",
      "Принимаем нулевую гипотезу: данные соответствуют равномерному распределению.\n"
     ]
    }
   ],
   "source": [
    "from scipy.stats import kstest, uniform\n",
    "import numpy as np\n",
    "\n",
    "# Параметры МКМ\n",
    "n = 1000  # Количество реализаций\n",
    "a0 = a01 = 109497735  # Значение первого элемннта последовательности\n",
    "M = 2 ** 31  # Модуль (M)\n",
    "c1 = 282157373  # Коэффициент умножения (c1)\n",
    "b = max(c1, M - c1)\n",
    "\n",
    "# Инициализация\n",
    "sequence_mkm = [a0]\n",
    "for i in range(1, n + 1):\n",
    "    next_value = (sequence_mkm[-1] * b) % M\n",
    "    sequence_mkm.append(next_value)\n",
    "\n",
    "for i in range(0, n + 1):\n",
    "    sequence_mkm[i]/=M\n",
    "\n",
    "    \n",
    "sequence_mkm = sequence_mkm[1:]\n",
    "\n",
    "\n",
    "data = sequence_mkm\n",
    "ravn_raspr = uniform.cdf\n",
    "\n",
    "\n",
    "ks_statistic, ks_p_value = kstest(data, ravn_raspr)\n",
    "\n",
    "\n",
    "print(\"Статистика Колмогорова-Смирнова:\", ks_statistic)\n",
    "print(\"p-значение:\", ks_p_value)\n",
    "\n",
    "\n",
    "alpha = 0.05\n",
    "\n",
    "if ks_p_value < alpha:\n",
    "    print(\"Отвергаем нулевую гипотезу: данные не соответствуют равномерному распределению.\")\n",
    "else:\n",
    "    print(\"Принимаем нулевую гипотезу: данные соответствуют равномерному распределению.\")"
   ]
  }
 ],
 "metadata": {
  "kernelspec": {
   "display_name": "Python 3 (ipykernel)",
   "language": "python",
   "name": "python3"
  },
  "language_info": {
   "codemirror_mode": {
    "name": "ipython",
    "version": 3
   },
   "file_extension": ".py",
   "mimetype": "text/x-python",
   "name": "python",
   "nbconvert_exporter": "python",
   "pygments_lexer": "ipython3",
   "version": "3.11.5"
  }
 },
 "nbformat": 4,
 "nbformat_minor": 5
}
