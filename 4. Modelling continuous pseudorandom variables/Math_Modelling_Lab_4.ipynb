{
  "nbformat": 4,
  "nbformat_minor": 0,
  "metadata": {
    "colab": {
      "provenance": []
    },
    "kernelspec": {
      "name": "python3",
      "display_name": "Python 3"
    },
    "language_info": {
      "name": "python"
    }
  },
  "cells": [
    {
      "cell_type": "code",
      "source": [
        "import numpy as np\n",
        "import math"
      ],
      "metadata": {
        "id": "TqKnpv5JnEoE"
      },
      "execution_count": 56,
      "outputs": []
    },
    {
      "cell_type": "markdown",
      "source": [
        "Осуществить моделирование n = 1000 реализаций случайной величины из нормального закона распределения N(m, s^2) с заданными параметрами. Для моделирования воспользоваться алгоритмом, основанным на ЦПТ; (в качестве количества используемых слагаемых можно взять N = 48, или 192, или другое на свой выбор; учтите, что от этого значения зависят коэффициенты нормировки). Вычислить несмещенные оценки математического ожидания и дисперсии, сравнить их с истинными значениями.\n",
        "13) m = 2, s2 = 16;"
      ],
      "metadata": {
        "id": "WKlEGE8YUbpD"
      }
    },
    {
      "cell_type": "code",
      "source": [
        "def generate_normal_samples(n, m, s, N):\n",
        "    samples = []\n",
        "    for _ in range(n):\n",
        "        uniform_samples = np.random.uniform(0, 1, size=N)\n",
        "        sample = m + s * np.sqrt(12 / N) * (np.sum(uniform_samples) - N / 2)\n",
        "        samples.append(sample)\n",
        "    return np.array(samples)"
      ],
      "metadata": {
        "id": "EmDsiZyZuHye"
      },
      "execution_count": 57,
      "outputs": []
    },
    {
      "cell_type": "code",
      "execution_count": 58,
      "metadata": {
        "id": "o-9EDJyET73Z",
        "colab": {
          "base_uri": "https://localhost:8080/"
        },
        "outputId": "2553253a-eb22-4124-d981-74e0171a8d4b"
      },
      "outputs": [
        {
          "output_type": "stream",
          "name": "stdout",
          "text": [
            "Несмещенная оценка мат. ожидания: 1.8520224418251587\n",
            "Несмещенная оценка дисперсии: 15.710119756622372\n",
            "Истинное значение мат. ожидания: 2\n",
            "Истинное значение дисперсии: 16\n"
          ]
        }
      ],
      "source": [
        "m = 2\n",
        "s = 4\n",
        "\n",
        "n = 1000\n",
        "N = 48\n",
        "\n",
        "samples = generate_normal_samples(n, m, s, N)\n",
        "\n",
        "mean = np.mean(samples)\n",
        "disp = np.var(samples, ddof=1)\n",
        "\n",
        "true_mean = m\n",
        "true_disp = s**2\n",
        "\n",
        "print(f\"Несмещенная оценка мат. ожидания: {mean}\")\n",
        "print(f\"Несмещенная оценка дисперсии: {disp}\")\n",
        "print(f\"Истинное значение мат. ожидания: {true_mean}\")\n",
        "print(f\"Истинное значение дисперсии: {true_disp}\")\n",
        "\n"
      ]
    },
    {
      "cell_type": "markdown",
      "source": [
        "Смоделировать n = 1000 случайных величин из заданных абсолютно непрерывных\n",
        "распределений. Вычислить несмещенные оценки математического ожидания и дисперсии, сравнить их с истинными значениями (если это возможно). Если математического ожидания не существует, то вычислить выборочное значение медианы и сравнить его с теоретическим.\n",
        "\n",
        "13) *Логнормальное LN(m, s2), m = -1, s = 2;"
      ],
      "metadata": {
        "id": "Hp9MygnVUqVo"
      }
    },
    {
      "cell_type": "code",
      "source": [
        "def lognormal_transform(n, m, s, N):\n",
        "  log_values = generate_normal_samples(n, m, s, N)\n",
        "  samples = np.exp(log_values)\n",
        "  return samples"
      ],
      "metadata": {
        "id": "radZPUMfn5n3"
      },
      "execution_count": 59,
      "outputs": []
    },
    {
      "cell_type": "code",
      "source": [
        "m = -1\n",
        "s = 2\n",
        "\n",
        "lognormal_samples = lognormal_transform(n, m, s, N)\n",
        "\n",
        "lognormal_mean_estimate = np.mean(lognormal_samples)\n",
        "lognormal_var_estimate = np.var(lognormal_samples)\n",
        "\n",
        "lognormal_mean_true = np.exp(m + 0.5 * s**2)\n",
        "lognormal_var_true = (np.exp(s**2) - 1) * np.exp(2 * m + s**2)\n",
        "\n",
        "print(\"Для логнормального распределения:\")\n",
        "print(f\"Несмещенная оценка мат. ожидания: {lognormal_mean_estimate}\")\n",
        "print(f\"Несмещенная оценка дисперсии: {lognormal_var_estimate}\")\n",
        "\n",
        "print(f\"Теоретическая оценка мат. ожидания: {lognormal_mean_true}\")\n",
        "print(f\"Теоретическая оценка дисперсии: {lognormal_var_true}\")"
      ],
      "metadata": {
        "colab": {
          "base_uri": "https://localhost:8080/"
        },
        "id": "vJ5ShL2GrJwc",
        "outputId": "3382e88b-f989-4217-f333-91eceea74697"
      },
      "execution_count": 60,
      "outputs": [
        {
          "output_type": "stream",
          "name": "stdout",
          "text": [
            "Для логнормального распределения:\n",
            "Несмещенная оценка мат. ожидания: 3.097533256110617\n",
            "Несмещенная оценка дисперсии: 312.72006613017714\n",
            "Теоретическая оценка мат. ожидания: 2.718281828459045\n",
            "Теоретическая оценка дисперсии: 396.03973739380444\n"
          ]
        }
      ]
    },
    {
      "cell_type": "markdown",
      "source": [
        "13) Лапласа L(a), a = 1.5."
      ],
      "metadata": {
        "id": "p4pj3OCfn5TQ"
      }
    },
    {
      "cell_type": "code",
      "source": [
        "def laplace_inverse_transform(n,a):\n",
        "    samples = []\n",
        "    for _ in range(n):\n",
        "        y = np.random.uniform(0, 1)\n",
        "        if y < 0.5:\n",
        "            sample = 1/a * np.log(2 * y)\n",
        "        else:\n",
        "            sample = -1/a * np.log(2 - 2 * y)\n",
        "        samples.append(sample)\n",
        "    return np.array(samples)"
      ],
      "metadata": {
        "id": "zHWwdsAKnmrc"
      },
      "execution_count": 61,
      "outputs": []
    },
    {
      "cell_type": "code",
      "source": [
        "a = 1.5\n",
        "\n",
        "laplace_samples = laplace_inverse_transform(n,a)\n",
        "\n",
        "laplace_mean_estimate = np.mean(laplace_samples)\n",
        "laplace_var_estimate = np.var(laplace_samples, ddof=1)\n",
        "\n",
        "laplace_mean_true = 0\n",
        "laplace_var_true = 2 / (a ** 2)\n",
        "\n",
        "print(\"Для распределения Лапласа:\")\n",
        "print(f\"Несмещенная оценка мат. ожидания: {laplace_mean_estimate}\")\n",
        "print(f\"Несмещенная оценка дисперсии: {laplace_var_estimate}\")\n",
        "\n",
        "print(f\"Теоретическая оценка мат. ожидания: {laplace_mean_true}\")\n",
        "print(f\"Теоретическая оценка дисперсии: {laplace_var_true}\")"
      ],
      "metadata": {
        "colab": {
          "base_uri": "https://localhost:8080/"
        },
        "id": "tfZzmFlAoFz1",
        "outputId": "82dadda2-1fcc-4833-8023-5f390553dd00"
      },
      "execution_count": 62,
      "outputs": [
        {
          "output_type": "stream",
          "name": "stdout",
          "text": [
            "Для распределения Лапласа:\n",
            "Несмещенная оценка мат. ожидания: 0.07450356001843671\n",
            "Несмещенная оценка дисперсии: 0.99283927663171\n",
            "Теоретическая оценка мат. ожидания: 0\n",
            "Теоретическая оценка дисперсии: 0.8888888888888888\n"
          ]
        }
      ]
    },
    {
      "cell_type": "markdown",
      "source": [
        "Смоделировать n = 1000 случайных величин из смеси двух распределений. Распределения взять из своего варианта задания 2, π – вероятность выбора элемента из первого распределения. Важно: В случае если у одного из распределений из вашего варианта математическое ожидание или дисперсия не существует, то поменять его на нормальное распределение из своего варианта задания 1.\n",
        "\n",
        "13) π = 0.1;"
      ],
      "metadata": {
        "id": "Dt6B_FZkwEJC"
      }
    },
    {
      "cell_type": "code",
      "source": [
        "pi = 0.1\n",
        "mixed_samples = []\n",
        "\n",
        "for _ in range(n):\n",
        "    choice = np.random.uniform(0, 1)\n",
        "    if choice <= pi:\n",
        "        mixed_samples.append(laplace_samples[_])\n",
        "    else:\n",
        "        mixed_samples.append(lognormal_samples[_])\n",
        "\n",
        "mixed_samples = np.array(mixed_samples)\n",
        "\n",
        "mixedMean = np.mean(mixed_samples)\n",
        "mixedDisp = np.var(mixed_samples, ddof=1)\n",
        "print(f\"Несмещенная оценка мат. ожидания: {mixedMean}\")\n",
        "print(f\"Несмещенная оценка дисперсии: {mixedDisp}\")"
      ],
      "metadata": {
        "colab": {
          "base_uri": "https://localhost:8080/"
        },
        "id": "EaBPXROcwEgK",
        "outputId": "9a364f01-5f24-4f0b-f07a-b54634499724"
      },
      "execution_count": 63,
      "outputs": [
        {
          "output_type": "stream",
          "name": "stdout",
          "text": [
            "Несмещенная оценка мат. ожидания: 2.708757534822577\n",
            "Несмещенная оценка дисперсии: 286.8891427948774\n"
          ]
        }
      ]
    },
    {
      "cell_type": "code",
      "source": [
        "mixedMean = pi * laplace_mean_true + (1 - pi) * lognormal_mean_true\n",
        "mixedDisp = pi * laplace_var_true + (1 - pi) * lognormal_var_true + pi * (laplace_mean_true - mixedMean)**2 + (1-pi)* (lognormal_mean_true- mixedMean)**2\n",
        "print(f\"Истинное значение мат. ожидания: {mixedMean}\")\n",
        "print(f\"Истинное значение дисперсии: {mixedDisp}\")"
      ],
      "metadata": {
        "colab": {
          "base_uri": "https://localhost:8080/"
        },
        "id": "IGRNEOKHwFM1",
        "outputId": "cdd6c1b1-de14-40b2-de3c-99ea1fcb62c1"
      },
      "execution_count": 64,
      "outputs": [
        {
          "output_type": "stream",
          "name": "stdout",
          "text": [
            "Истинное значение мат. ожидания: 2.4464536456131407\n",
            "Истинное значение дисперсии: 357.18966759221667\n"
          ]
        }
      ]
    },
    {
      "cell_type": "markdown",
      "source": [
        "Осуществить моделирование n = 1000 реализаций случайной величины из стандартного нормального закона распределения N(0, 1), используя преобразование Бокса — Мюллера http://ru.wikipedia.org/wiki/Преобразование_Бокса_—_Мюллера (согласно литературе Лобач В.И. [и др] «используя функциональное преобразование»)"
      ],
      "metadata": {
        "id": "ATLudAaQvruk"
      }
    },
    {
      "cell_type": "code",
      "source": [
        "def box_muller(n):\n",
        "    samples = []\n",
        "    i = 0\n",
        "    while i < n:\n",
        "        u1 = np.random.uniform(0, 1)\n",
        "        u2 = np.random.uniform(0, 1)\n",
        "        z0 = np.sqrt(-2 * np.log(u1)) * np.cos(2 * np.pi * u2)\n",
        "        z1 = np.sqrt(-2 * np.log(u1)) * np.sin(2 * np.pi * u2)\n",
        "        samples.append(z0)\n",
        "        samples.append(z1)\n",
        "        i += 1\n",
        "\n",
        "    return samples[:n]"
      ],
      "metadata": {
        "id": "_2IFwqI9vvSk"
      },
      "execution_count": 71,
      "outputs": []
    },
    {
      "cell_type": "code",
      "source": [
        "n = 1000\n",
        "standard_normal_samples = box_muller(n)\n",
        "\n",
        "print(\"Первые 10 сгенерированных значений:\")\n",
        "print(standard_normal_samples[:10])"
      ],
      "metadata": {
        "colab": {
          "base_uri": "https://localhost:8080/"
        },
        "id": "lN97jsDcvzw6",
        "outputId": "5113c4cd-55d2-4bcd-e5db-61cb71ae041b"
      },
      "execution_count": 66,
      "outputs": [
        {
          "output_type": "stream",
          "name": "stdout",
          "text": [
            "Первые 10 сгенерированных значений:\n",
            "[-2.293892267060989, 0.038260438780706243, -1.4947593977591467, -1.1825553525348873, 1.3007686174362603, -0.2726047493059802, 0.8785916253104163, -0.5509557032715348, -1.382549172745122, -0.9124516020583244]\n"
          ]
        }
      ]
    },
    {
      "cell_type": "markdown",
      "source": [
        "Смоделировать n = 1000 случайных величин из усеченного распределения из своего варианта (одно из основного задания 2) с уровнями усечения снизу a и сверху b. Параметр a выбрать меньше медианы или мат. ожидания, b – больше. Моделирование проводить по следующему простому алгоритму: генерируем обычную случайную величину из заданного распределения и проверяем, попало ли оно в отрезок [a, b], если да, то хорошо, если нет, то значение отбрасываем и повторяем попытку. Вычислить несмещенные оценки математического ожидания и дисперсии."
      ],
      "metadata": {
        "id": "ECrY1qKhyYQz"
      }
    },
    {
      "cell_type": "code",
      "source": [
        "def truncated_laplace(lambda_val, a_val, b_val):\n",
        "    samples = []\n",
        "    while len(samples) < 1000:\n",
        "        y = np.random.uniform(0, 1)\n",
        "        if y < 0.5:\n",
        "            sample = 1/lambda_val * np.log(2 * y)\n",
        "        else:\n",
        "            sample = -1/lambda_val * np.log(2 - 2 * y)\n",
        "        if a_val <= sample <= b_val:\n",
        "            samples.append(sample)\n",
        "    return samples"
      ],
      "metadata": {
        "id": "XAzzDGgNyceP"
      },
      "execution_count": 68,
      "outputs": []
    },
    {
      "cell_type": "code",
      "source": [
        "lmbda = 0.5\n",
        "a = -1\n",
        "b = 1.5\n",
        "\n",
        "truncated_samples = truncated_laplace(lmbda, a, b)\n",
        "\n",
        "truncated_laplace_mean_estimate = np.mean(truncated_samples)\n",
        "truncated_laplace_variance_estimate = np.var(truncated_samples, ddof=1)\n",
        "\n",
        "print(f\"Несмещенная оценка мат. ожидания: {truncated_laplace_mean_estimate}\")\n",
        "print(f\"Несмещенная оценка дисперсии: {truncated_laplace_variance_estimate}\")"
      ],
      "metadata": {
        "colab": {
          "base_uri": "https://localhost:8080/"
        },
        "id": "GryTwQ1fyfMx",
        "outputId": "6206a098-e911-4e92-cb4e-4e467d9e6379"
      },
      "execution_count": 70,
      "outputs": [
        {
          "output_type": "stream",
          "name": "stdout",
          "text": [
            "Несмещенная оценка мат. ожидания: 0.15026559337839734\n",
            "Несмещенная оценка дисперсии: 0.4574721574409632\n"
          ]
        }
      ]
    }
  ]
}